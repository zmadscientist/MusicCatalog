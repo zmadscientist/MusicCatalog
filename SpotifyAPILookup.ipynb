{
 "cells": [
  {
   "cell_type": "markdown",
   "id": "f13086d5-0d10-4c9d-ac94-f514b4e66d37",
   "metadata": {},
   "source": [
    "# Spotify API lookup"
   ]
  },
  {
   "cell_type": "code",
   "execution_count": 16,
   "id": "7e4ba034-983b-48c0-ae64-ee4670e54410",
   "metadata": {},
   "outputs": [
    {
     "name": "stdout",
     "output_type": "stream",
     "text": [
      "'Live and Let Die' by Paul McCartney Release date: 1973\n"
     ]
    }
   ],
   "source": [
    "import spotipy\n",
    "from spotipy.oauth2 import SpotifyClientCredentials\n",
    "from datetime import datetime\n",
    "\n",
    "client_id = '04c5d8004a1246e4925748da863e8c4e'\n",
    "client_secret = '5eb58afe095e44c297312a03f0507155'\n",
    "# see my auth at https://developer.spotify.com/dashboard/04c5d8004a1246e4925748da863e8c4e/settings\n",
    "\n",
    "def spotify_get_song_release_date(artist, title):\n",
    "    # Set up Spotify client credentials\n",
    "    client_credentials_manager = SpotifyClientCredentials(client_id=client_id, client_secret=client_secret)\n",
    "    sp = spotipy.Spotify(client_credentials_manager=client_credentials_manager)\n",
    "\n",
    "    # Search for the track\n",
    "    query = f\"artist:{artist} track:{title}\"\n",
    "\n",
    "    results = sp.search(q=query, type='track', limit=1)\n",
    "\n",
    "    if results['tracks']['items']:\n",
    "        track = results['tracks']['items'][0]\n",
    "        album = sp.album(track['album']['id'])\n",
    "        return album['release_date']\n",
    "    else:\n",
    "        return \"Song not found\"\n",
    "\n",
    "def go_fish (title):\n",
    "    # Set up Spotify client credentials\n",
    "    client_credentials_manager = SpotifyClientCredentials(client_id=client_id, client_secret=client_secret)\n",
    "    sp = spotipy.Spotify(client_credentials_manager=client_credentials_manager)\n",
    "\n",
    "    # Search for the track\n",
    "    query = f\"track:{title}\"\n",
    "\n",
    "    results = sp.search(q=query, type='track', limit=1)\n",
    "\n",
    "    if results['tracks']['items']:\n",
    "        return results\n",
    "    else:\n",
    "        return \"Song not found\"\n",
    "\n",
    "# Example usage\n",
    "artist = \"Paul McCartney\"\n",
    "title = \"Live and Let Die\"\n",
    "release_date = spotify_get_song_release_date(artist, title)\n",
    "date_object = datetime.strptime(release_date, \"%Y-%m-%d\")\n",
    "year = date_object.year\n",
    "print(f\"'{title}' by {artist} Release date: {year}\")\n",
    "#res = go_fish (title)"
   ]
  },
  {
   "cell_type": "code",
   "execution_count": 5,
   "id": "573443f4-d9df-4c39-8d5f-804864662fc0",
   "metadata": {},
   "outputs": [
    {
     "data": {
      "text/plain": [
       "'1979'"
      ]
     },
     "execution_count": 5,
     "metadata": {},
     "output_type": "execute_result"
    }
   ],
   "source": [
    "artist = \"ABBA\"\n",
    "title = \"Gimme! Gimme! Gimme!\"\n",
    "get_song_release_date(artist, title )"
   ]
  },
  {
   "cell_type": "markdown",
   "id": "2a6ee803-2894-4a01-8f77-327024ad8b41",
   "metadata": {},
   "source": [
    "# Combine Spotify with Music_Tag"
   ]
  },
  {
   "cell_type": "code",
   "execution_count": 22,
   "id": "5b4146bf-ad2e-4dad-873e-d327b0e49600",
   "metadata": {},
   "outputs": [
    {
     "name": "stdout",
     "output_type": "stream",
     "text": [
      "Artist: Jackie DeShannon\n",
      "Album: Put A Little Love In Your Heart (Deluxe Edition)\n",
      "Title: Put A Little Love In Your Heart\n",
      "Year: 1969\n",
      "Genre: Pop\n",
      "Track Number: 1\n",
      "'Put A Little Love In Your Heart' by Jackie DeShannon Release date: 1968\n"
     ]
    }
   ],
   "source": [
    "import music_tag\n",
    "fn = \"music/Jackie DeShannon - Put A Little Love In Your Heart.mp3\"\n",
    "f = music_tag.load_file(fn)\n",
    "\n",
    "def get_mp3_info(file_path):\n",
    "    f = music_tag.load_file(file_path)\n",
    "    \n",
    "    # Extract common metadata\n",
    "    artist = f['artist'].first\n",
    "    album = f['album'].first\n",
    "    title = f['title'].first\n",
    "    year = f['year'].first\n",
    "    genre = f['genre'].first\n",
    "    track_num = f['tracknumber'].first\n",
    "\n",
    "    print(f\"Artist: {artist}\")\n",
    "    print(f\"Album: {album}\")\n",
    "    print(f\"Title: {title}\")\n",
    "    print(f\"Year: {year}\")\n",
    "    print(f\"Genre: {genre}\")\n",
    "    print(f\"Track Number: {track_num}\")\n",
    "    return artist, title, year\n",
    "# Usage\n",
    "\n",
    "artist, title, year = get_mp3_info(fn)\n",
    "\n",
    "release = spotify_get_song_release_date(artist, title )\n",
    "date_object = datetime.strptime(release, \"%Y-%m-%d\")\n",
    "year = date_object.year\n",
    "print(f\"'{title}' by {artist} Release date: {year}\")"
   ]
  },
  {
   "cell_type": "code",
   "execution_count": 21,
   "id": "1264fa56-5580-4ed5-822f-4047abf98384",
   "metadata": {},
   "outputs": [
    {
     "data": {
      "text/plain": [
       "'1968-10-01'"
      ]
     },
     "execution_count": 21,
     "metadata": {},
     "output_type": "execute_result"
    }
   ],
   "source": [
    "release"
   ]
  },
  {
   "cell_type": "code",
   "execution_count": null,
   "id": "12641235-e04c-4e31-b64a-c3f39824431a",
   "metadata": {},
   "outputs": [],
   "source": []
  },
  {
   "cell_type": "code",
   "execution_count": null,
   "id": "b1f9a36e-1933-42bb-8116-7ecd7abf7f30",
   "metadata": {},
   "outputs": [],
   "source": []
  }
 ],
 "metadata": {
  "kernelspec": {
   "display_name": "mldl",
   "language": "python",
   "name": "mldl"
  },
  "language_info": {
   "codemirror_mode": {
    "name": "ipython",
    "version": 3
   },
   "file_extension": ".py",
   "mimetype": "text/x-python",
   "name": "python",
   "nbconvert_exporter": "python",
   "pygments_lexer": "ipython3",
   "version": "3.9.18"
  }
 },
 "nbformat": 4,
 "nbformat_minor": 5
}
