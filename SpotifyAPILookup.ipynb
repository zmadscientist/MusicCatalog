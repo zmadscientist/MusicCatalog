{
 "cells": [
  {
   "cell_type": "markdown",
   "id": "f13086d5-0d10-4c9d-ac94-f514b4e66d37",
   "metadata": {},
   "source": [
    "# Spotify API lookup"
   ]
  },
  {
   "cell_type": "code",
   "execution_count": 47,
   "id": "7e4ba034-983b-48c0-ae64-ee4670e54410",
   "metadata": {},
   "outputs": [
    {
     "name": "stdout",
     "output_type": "stream",
     "text": [
      "'Live and Let Die' by Paul McCartney Release date: 1973\n"
     ]
    }
   ],
   "source": [
    "import spotipy\n",
    "from spotipy.oauth2 import SpotifyClientCredentials\n",
    "from datetime import datetime\n",
    "\n",
    "client_id = '04c5d8004a1246e4925748da863e8c4e'\n",
    "client_secret = '5eb58afe095e44c297312a03f0507155'\n",
    "# see my auth at https://developer.spotify.com/dashboard/04c5d8004a1246e4925748da863e8c4e/settings\n",
    "\n",
    "def get_song_release_date(artist, title):\n",
    "    # Set up Spotify client credentials\n",
    "    client_credentials_manager = SpotifyClientCredentials(client_id=client_id, client_secret=client_secret)\n",
    "    sp = spotipy.Spotify(client_credentials_manager=client_credentials_manager)\n",
    "\n",
    "    # Search for the track\n",
    "    query = f\"artist:{artist} track:{title}\"\n",
    "\n",
    "    results = sp.search(q=query, type='track', limit=1)\n",
    "\n",
    "    if results['tracks']['items']:\n",
    "        track = results['tracks']['items'][0]\n",
    "        album = sp.album(track['album']['id'])\n",
    "        return album['release_date']\n",
    "    else:\n",
    "        return \"Song not found\"\n",
    "\n",
    "def go_fish (title):\n",
    "    # Set up Spotify client credentials\n",
    "    client_credentials_manager = SpotifyClientCredentials(client_id=client_id, client_secret=client_secret)\n",
    "    sp = spotipy.Spotify(client_credentials_manager=client_credentials_manager)\n",
    "\n",
    "    # Search for the track\n",
    "    query = f\"track:{title}\"\n",
    "\n",
    "    results = sp.search(q=query, type='track', limit=1)\n",
    "\n",
    "    if results['tracks']['items']:\n",
    "        return results\n",
    "    else:\n",
    "        return \"Song not found\"\n",
    "\n",
    "# Example usage\n",
    "artist = \"Paul McCartney\"\n",
    "title = \"Live and Let Die\"\n",
    "release_date = get_song_release_date(artist, title)\n",
    "date_object = datetime.strptime(release_date, \"%Y-%m-%d\")\n",
    "year = date_object.year\n",
    "print(f\"'{title}' by {artist} Release date: {year}\")\n",
    "#res = go_fish (title)"
   ]
  },
  {
   "cell_type": "code",
   "execution_count": null,
   "id": "573443f4-d9df-4c39-8d5f-804864662fc0",
   "metadata": {},
   "outputs": [],
   "source": []
  }
 ],
 "metadata": {
  "kernelspec": {
   "display_name": "mldl",
   "language": "python",
   "name": "mldl"
  },
  "language_info": {
   "codemirror_mode": {
    "name": "ipython",
    "version": 3
   },
   "file_extension": ".py",
   "mimetype": "text/x-python",
   "name": "python",
   "nbconvert_exporter": "python",
   "pygments_lexer": "ipython3",
   "version": "3.9.18"
  }
 },
 "nbformat": 4,
 "nbformat_minor": 5
}
